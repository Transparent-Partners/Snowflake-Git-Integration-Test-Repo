{
 "cells": [
  {
   "cell_type": "code",
   "execution_count": null,
   "id": "a63aea39",
   "metadata": {},
   "outputs": [],
   "source": [
    "SELECT PROPERTY_COUNTRY, AVG(METRIC_DEVICES_CONNECTED_COUNT) AS AVG_METRIC_DEVICES_CONN\n",
    "FROM SYNTHETIC_PROFILE_500K\n",
    "GROUP BY PROPERTY_COUNTRY;"
   ]
  }
 ],
 "metadata": {
  "language_info": {
   "name": "python"
  }
 },
 "nbformat": 4,
 "nbformat_minor": 5
}
