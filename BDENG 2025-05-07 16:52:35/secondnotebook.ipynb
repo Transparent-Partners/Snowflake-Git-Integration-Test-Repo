{
 "metadata": {
  "language_info": {
   "name": "python"
  }
 },
 "nbformat_minor": 5,
 "nbformat": 4,
 "cells": [
  {
   "cell_type": "code",
   "execution_count": null,
   "id": "a63aea39",
   "metadata": {
    "name": "cell1",
    "language": "python"
   },
   "outputs": [],
   "source": "SELECT PROPERTY_COUNTRY, AVG(METRIC_DEVICES_CONNECTED_COUNT) AS AVG_METRIC_DEVICES_CONN\nFROM SYNTHETIC_PROFILE_500K\nGROUP BY PROPERTY_COUNTRY\nWHERE PROPERTY_COUNTRY = 'US';"
  }
 ]
}