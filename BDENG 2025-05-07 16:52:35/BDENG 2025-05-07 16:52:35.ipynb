{
 "metadata": {
  "kernelspec": {
   "display_name": "Streamlit Notebook",
   "name": "streamlit"
  },
  "lastEditStatus": {
   "notebookId": "rdhjnblspj6cssz7j4pj",
   "authorId": "7330406780908",
   "authorName": "BDENG",
   "authorEmail": "benjamin.deng@transparent.partners",
   "sessionId": "fb94ee8c-bec0-4289-b6a8-4b3317243669",
   "lastEditTime": 1746829728473
  }
 },
 "nbformat_minor": 5,
 "nbformat": 4,
 "cells": [
  {
   "cell_type": "code",
   "execution_count": null,
   "id": "8d50cbf4-0c8d-4950-86cb-114990437ac9",
   "metadata": {
    "language": "sql",
    "name": "cell2"
   },
   "outputs": [],
   "source": [
    "-- Welcome to Snowflake Notebooks!\n",
    "-- Try out a SQL cell to generate some data.\n",
    "SELECT 'FRIDAY' as SNOWDAY, 0.2 as CHANCE_OF_SNOW\n",
    "UNION ALL\n",
    "SELECT 'SATURDAY',0.5\n",
    "UNION ALL \n",
    "SELECT 'SUNDAY', 0.9;"
   ]
  },
  {
   "cell_type": "code",
   "execution_count": null,
   "id": "4769cd31-aaef-470f-b817-180fefb537a8",
   "metadata": {
    "language": "sql",
    "name": "cell1"
   },
   "outputs": [],
   "source": "SELECT VISITOR_ID, VISITOR_CREATED, PROPERTY_COUNTRY, BADGE_EMAIL_OPTED_IN\nFROM SYNTHETIC_PROFILE_500K\nWHERE PROPERTY_COUNTRY = 'US' AND BADGE_EMAIL_OPTED_IN = 'FALSE';"
  }
 ]
}