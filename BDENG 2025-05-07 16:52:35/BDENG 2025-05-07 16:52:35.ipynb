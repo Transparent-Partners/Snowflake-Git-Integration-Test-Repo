{
 "cells": [
  {
   "cell_type": "code",
   "execution_count": null,
   "id": "8d50cbf4-0c8d-4950-86cb-114990437ac9",
   "metadata": {
    "language": "sql",
    "name": "cell2"
   },
   "outputs": [],
   "source": [
    "-- Welcome to Snowflake Notebooks!\n",
    "-- Try out a SQL cell to generate some data.\n",
    "SELECT 'FRIDAY' as SNOWDAY, 0.2 as CHANCE_OF_SNOW\n",
    "UNION ALL\n",
    "SELECT 'SATURDAY',0.5\n",
    "UNION ALL \n",
    "SELECT 'SUNDAY', 0.9;"
   ]
  },
  {
   "cell_type": "code",
   "execution_count": null,
   "id": "4769cd31-aaef-470f-b817-180fefb537a8",
   "metadata": {
    "language": "sql",
    "name": "cell1"
   },
   "outputs": [],
   "source": [
    "SELECT VISITOR_ID, VISITOR_CREATED, PROPERTY_COUNTRY, BADGE_EMAIL_OPTED_IN\n",
    "FROM SYNTHETIC_PROFILE_500K\n",
    "WHERE PROPERTY_COUNTRY = 'US' AND BADGE_EMAIL_OPTED_IN = 'TRUE';"
   ]
  }
 ],
 "metadata": {
  "kernelspec": {
   "display_name": "Streamlit Notebook",
   "name": "streamlit"
  },
  "lastEditStatus": {
   "authorEmail": "benjamin.deng@transparent.partners",
   "authorId": "7330406780908",
   "authorName": "BDENG",
   "lastEditTime": 1746718188782,
   "notebookId": "rdhjnblspj6cssz7j4pj",
   "sessionId": "904dfe97-6a2e-48b0-81f5-953cd99a8b38"
  }
 },
 "nbformat": 4,
 "nbformat_minor": 5
}
