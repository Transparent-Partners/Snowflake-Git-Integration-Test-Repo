{
 "metadata": {
  "kernelspec": {
   "display_name": "Streamlit Notebook",
   "name": "streamlit"
  },
  "lastEditStatus": {
   "notebookId": "rdhjnblspj6cssz7j4pj",
   "authorId": "7330406780908",
   "authorName": "BDENG",
   "authorEmail": "benjamin.deng@transparent.partners",
   "sessionId": "904dfe97-6a2e-48b0-81f5-953cd99a8b38",
   "lastEditTime": 1746718032829
  }
 },
 "nbformat_minor": 5,
 "nbformat": 4,
 "cells": [
  {
   "cell_type": "code",
   "id": "8d50cbf4-0c8d-4950-86cb-114990437ac9",
   "metadata": {
    "language": "sql",
    "name": "cell2"
   },
   "source": "-- Welcome to Snowflake Notebooks!\n-- Try out a SQL cell to generate some data.\nSELECT 'FRIDAY' as SNOWDAY, 0.2 as CHANCE_OF_SNOW\nUNION ALL\nSELECT 'SATURDAY',0.5\nUNION ALL \nSELECT 'SUNDAY', 0.9;",
   "execution_count": null,
   "outputs": []
  },
  {
   "cell_type": "code",
   "id": "4769cd31-aaef-470f-b817-180fefb537a8",
   "metadata": {
    "language": "sql",
    "name": "cell1"
   },
   "outputs": [],
   "source": "SELECT VISITOR_ID, VISITOR_CREATED, PROPERTY_COUNTRY, BADGE_EMAIL_OPTED_IN\nFROM SYNTHETIC_PROFILE_500K\nWHERE PROPERTY_COUNTRY = 'US' AND BADGE_EMAIL_OPTED_IN = 'FALSE';",
   "execution_count": null
  }
 ]
}